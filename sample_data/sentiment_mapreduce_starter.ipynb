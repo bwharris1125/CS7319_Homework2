{
 "cells": [
  {
   "cell_type": "markdown",
   "id": "d0846c04",
   "metadata": {},
   "source": [
    "# Sentiment Analysis (MapReduce-Style) — Starter Notebook\n",
    "This notebook is a **minimal template**. You will fill in the TODOs to:\n",
    "1) Define keyword sets\n",
    "2) Implement the `map_post` function (Map)\n",
    "3) Group by label (Shuffle/Group)\n",
    "4) Sum totals (Reduce)\n",
    "5) Print counts **and** a final verdict (Happier / Sadder / Tied)\n",
    "\n",
    "Use the provided dataset path or change it to your file.\n",
    "Keep the logic **very simple** (exact keyword matches, case-insensitive)."
   ]
  },
  {
   "cell_type": "markdown",
   "id": "89f75f6a",
   "metadata": {},
   "source": [
    "## 0) Dataset Path (edit if needed)"
   ]
  },
  {
   "cell_type": "code",
   "execution_count": null,
   "id": "ce7d2344",
   "metadata": {},
   "outputs": [],
   "source": [
    "DATA_PATH = 'data/sample_us_posts.txt'  # TODO: change path if needed\n",
    "print('Using dataset:', DATA_PATH)"
   ]
  },
  {
   "cell_type": "markdown",
   "id": "6b0a2a71",
   "metadata": {},
   "source": [
    "## 1) Keywords (TODO)\n",
    "Fill in positive and negative keyword sets."
   ]
  },
  {
   "cell_type": "code",
   "execution_count": null,
   "id": "dc4a50d9",
   "metadata": {},
   "outputs": [],
   "source": [
    "POS = set()  # TODO: e.g., {'happy', 'excited'}\n",
    "NEG = set()  # TODO: e.g., {'sad', 'depressed'}\n",
    "print('POS:', POS, '\\nNEG:', NEG)"
   ]
  },
  {
   "cell_type": "markdown",
   "id": "65014753",
   "metadata": {},
   "source": [
    "## 2) Map (TODO)\n",
    "Implement a function that reads one line and returns a list with one pair: (label, 1)\n",
    "Rules:\n",
    "- Positive if contains ≥1 positive keyword and no negative\n",
    "- Negative if contains ≥1 negative and no positive\n",
    "- Mixed if contains both\n",
    "- Neutral otherwise\n",
    "\n",
    "Hints:\n",
    "- Use `line.lower()` and `split()` to get words for simplicity."
   ]
  },
  {
   "cell_type": "code",
   "execution_count": null,
   "id": "86ade4ac",
   "metadata": {},
   "outputs": [],
   "source": [
    "def map_post(line: str):\n",
    "    # TODO: implement simple keyword-based classification\n",
    "    # 1) lowercase, 2) split into words, 3) check keyword presence\n",
    "    # return [('Positive', 1)] or [('Negative', 1)] or [('Mixed', 1)] or [('Neutral', 1)]\n",
    "    raise NotImplementedError('map_post is not implemented yet')\n"
   ]
  },
  {
   "cell_type": "markdown",
   "id": "2a02d74d",
   "metadata": {},
   "source": [
    "## 3) Driver: Map Over Lines (provided)\n",
    "We iterate through the file and collect `(label, 1)` pairs."
   ]
  },
  {
   "cell_type": "code",
   "execution_count": null,
   "id": "d276d45c",
   "metadata": {},
   "outputs": [],
   "source": [
    "mapped = []\n",
    "with open(DATA_PATH, 'r', encoding='utf-8') as f:\n",
    "    for line in f:\n",
    "        if line.strip():\n",
    "            pairs = map_post(line)\n",
    "            mapped.extend(pairs)\n",
    "print('First few mapped items:', mapped[:10])"
   ]
  },
  {
   "cell_type": "markdown",
   "id": "3e087ff6",
   "metadata": {},
   "source": [
    "## 4) Shuffle/Group (TODO)\n",
    "Group values by label into a dictionary, e.g., {'Positive':[1,1,...], 'Negative':[1,...]}."
   ]
  },
  {
   "cell_type": "code",
   "execution_count": null,
   "id": "52bc68a2",
   "metadata": {},
   "outputs": [],
   "source": [
    "groups = {}\n",
    "# TODO: fill groups from mapped\n",
    "# for (label, value) in mapped: add value to groups[label]\n",
    "raise NotImplementedError('shuffle/group is not implemented yet')\n"
   ]
  },
  {
   "cell_type": "markdown",
   "id": "f261f866",
   "metadata": {},
   "source": [
    "## 5) Reduce (TODO)\n",
    "Create totals by summing values for each label, e.g., {'Positive': 3, 'Negative': 2, ...}"
   ]
  },
  {
   "cell_type": "code",
   "execution_count": null,
   "id": "0cc9b676",
   "metadata": {},
   "outputs": [],
   "source": [
    "totals = {}\n",
    "# TODO: totals[label] = sum(list_of_values)\n",
    "raise NotImplementedError('reduce is not implemented yet')\n"
   ]
  },
  {
   "cell_type": "markdown",
   "id": "9c1dc4ed",
   "metadata": {},
   "source": [
    "## 6) Print Counts and Verdict (TODO)\n",
    "- Print totals for all labels\n",
    "- Compute and print a **verdict**: Happier / Sadder / Tied\n",
    "  based on Positive vs Negative counts."
   ]
  },
  {
   "cell_type": "code",
   "execution_count": null,
   "id": "3676dffd",
   "metadata": {},
   "outputs": [],
   "source": [
    "# TODO: print(totals)\n",
    "# TODO: compute verdict\n",
    "raise NotImplementedError('verdict not implemented yet')\n"
   ]
  },
  {
   "cell_type": "markdown",
   "id": "b6e24fe0",
   "metadata": {},
   "source": [
    "## 7) Optional: Bar Chart (nice to have)\n",
    "If you know matplotlib, you can draw a simple bar chart."
   ]
  },
  {
   "cell_type": "code",
   "execution_count": null,
   "id": "21256f55",
   "metadata": {},
   "outputs": [],
   "source": [
    "# Optional\n",
    "try:\n",
    "    import matplotlib.pyplot as plt\n",
    "    labels = list(totals.keys())\n",
    "    values = [totals[k] for k in labels]\n",
    "    plt.figure()\n",
    "    plt.bar(labels, values)\n",
    "    plt.title('Sentiment counts')\n",
    "    plt.xlabel('Label')\n",
    "    plt.ylabel('Count')\n",
    "    plt.show()\n",
    "except Exception as e:\n",
    "    print('Chart skipped or totals not ready yet:', e)"
   ]
  },
  {
   "cell_type": "markdown",
   "id": "007b3752",
   "metadata": {},
   "source": [
    "---\n",
    "### Checklist to Submit\n",
    "- [ ] Filled POS/NEG keywords\n",
    "- [ ] Implemented `map_post`\n",
    "- [ ] Grouped mapped output into `groups`\n",
    "- [ ] Reduced to `totals`\n",
    "- [ ] Printed totals and verdict\n",
    "- [ ] (Optional) Chart\n"
   ]
  }
 ],
 "metadata": {
  "kernelspec": {
   "display_name": "Python 3 (ipykernel)",
   "language": "python",
   "name": "python3"
  },
  "language_info": {
   "codemirror_mode": {
    "name": "ipython",
    "version": 3
   },
   "file_extension": ".py",
   "mimetype": "text/x-python",
   "name": "python",
   "nbconvert_exporter": "python",
   "pygments_lexer": "ipython3",
   "version": "3.12.3"
  }
 },
 "nbformat": 4,
 "nbformat_minor": 5
}
