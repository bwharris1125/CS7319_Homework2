{
 "cells": [
  {
   "cell_type": "markdown",
   "id": "d0846c04",
   "metadata": {},
   "source": [
    "# Sentiment Analysis (MapReduce-Style)\n",
    "This notebook is a **minimal template**. You will fill in the TODOs to:\n",
    "1) Define keyword sets\n",
    "2) Implement the `map_post` function (Map)\n",
    "3) Group by label (Shuffle/Group)\n",
    "4) Sum totals (Reduce)\n",
    "5) Print counts **and** a final verdict (Happier / Sadder / Tied)\n",
    "\n",
    "Use the provided dataset path or change it to your file.\n",
    "Keep the logic **very simple** (exact keyword matches, case-insensitive)."
   ]
  },
  {
   "cell_type": "markdown",
   "id": "89f75f6a",
   "metadata": {},
   "source": [
    "## 0) Dataset Path (edit if needed)"
   ]
  },
  {
   "cell_type": "code",
   "execution_count": 9,
   "id": "ce7d2344",
   "metadata": {},
   "outputs": [
    {
     "name": "stdout",
     "output_type": "stream",
     "text": [
      "Using dataset: ../sample_data/data/sample_us_posts.txt\n"
     ]
    }
   ],
   "source": [
    "DATA_PATH = '../sample_data/data/sample_us_posts.txt'\n",
    "print('Using dataset:', DATA_PATH)"
   ]
  },
  {
   "cell_type": "markdown",
   "id": "6b0a2a71",
   "metadata": {},
   "source": [
    "## 1) Keywords\n",
    "Fill in positive and negative keyword sets."
   ]
  },
  {
   "cell_type": "code",
   "execution_count": 10,
   "id": "dc4a50d9",
   "metadata": {},
   "outputs": [
    {
     "name": "stdout",
     "output_type": "stream",
     "text": [
      "POS: {'thrilled', 'love', 'happy', 'excited'} \n",
      "NEG: {'upset', 'sad', 'angry', 'depressed'}\n"
     ]
    }
   ],
   "source": [
    "SENTIMENT_DICT = {\n",
    "    \"positive\": set([\"happy\", \"excited\", \"thrilled\", \"love\"]),\n",
    "    \"negative\": set([\"sad\", \"depressed\", \"angry\", \"upset\"])\n",
    "}\n",
    "print('POS:', SENTIMENT_DICT[\"positive\"],\n",
    "    '\\nNEG:', SENTIMENT_DICT[\"negative\"])"
   ]
  },
  {
   "cell_type": "markdown",
   "id": "65014753",
   "metadata": {},
   "source": [
    "## 2) Map\n",
    "Implement a function that reads one line and returns a list with one pair: (label, 1)\n",
    "Rules:\n",
    "- Positive if contains ≥1 positive keyword and no negative\n",
    "- Negative if contains ≥1 negative and no positive\n",
    "- Mixed if contains both\n",
    "- Neutral otherwise\n",
    "- Use `line.lower()` and `split()` to get words for simplicity."
   ]
  },
  {
   "cell_type": "code",
   "execution_count": 11,
   "id": "86ade4ac",
   "metadata": {},
   "outputs": [],
   "source": [
    "def map_post(line: str) -> list[tuple[str, int]]:\n",
    "    import re\n",
    "    pos_count = 0\n",
    "    neg_count = 0\n",
    "    \n",
    "    # tokenizing words using regex\n",
    "    line_lower = line.lower()\n",
    "    for word in SENTIMENT_DICT[\"positive\"]:\n",
    "        pos_count += len(re.findall(rf'\\b{re.escape(word)}\\b', line_lower))\n",
    "    for word in SENTIMENT_DICT[\"negative\"]:\n",
    "        neg_count += len(re.findall(rf'\\b{re.escape(word)}\\b', line_lower))\n",
    "\n",
    "    # classify line\n",
    "    if pos_count >= 1 and neg_count == 0:\n",
    "        return [(\"Positive\", 1)]\n",
    "    elif neg_count >= 1 and pos_count == 0:\n",
    "        return [(\"Negative\", 2)]\n",
    "    elif pos_count > 0 and neg_count > 0:\n",
    "        return [(\"Mixed\", 3)]\n",
    "    else:\n",
    "        return [(\"Neutral\", 4)]\n"
   ]
  },
  {
   "cell_type": "markdown",
   "id": "2a02d74d",
   "metadata": {},
   "source": [
    "## 3) Driver: Map Over Lines\n",
    "We iterate through the file and collect `(label, 1)` pairs."
   ]
  },
  {
   "cell_type": "code",
   "execution_count": 12,
   "id": "d276d45c",
   "metadata": {},
   "outputs": [
    {
     "name": "stdout",
     "output_type": "stream",
     "text": [
      "First few mapped items: [('Positive', 1), ('Positive', 1), ('Negative', 2), ('Negative', 2), ('Positive', 1), ('Positive', 1), ('Neutral', 4), ('Mixed', 3), ('Positive', 1), ('Mixed', 3)]\n"
     ]
    }
   ],
   "source": [
    "mapped = []\n",
    "with open(DATA_PATH, 'r', encoding='utf-8') as f:\n",
    "    for line in f:\n",
    "        if line.strip():\n",
    "            pairs = map_post(line)\n",
    "            mapped.extend(pairs)\n",
    "print('First few mapped items:', mapped[:10])"
   ]
  },
  {
   "cell_type": "markdown",
   "id": "3e087ff6",
   "metadata": {},
   "source": [
    "## 4) Shuffle/Group\n",
    "Group values by label into a dictionary, e.g., {'Positive':[1,1,...], 'Negative':[1,...]}."
   ]
  },
  {
   "cell_type": "code",
   "execution_count": 13,
   "id": "52bc68a2",
   "metadata": {},
   "outputs": [
    {
     "name": "stdout",
     "output_type": "stream",
     "text": [
      "Grouped: {'Positive': [1, 1, 1, 1, 1], 'Negative': [2, 2], 'Neutral': [4], 'Mixed': [3, 3]}\n"
     ]
    }
   ],
   "source": [
    "groups = {}\n",
    "# for (label, value) in mapped: add value to groups[label]\n",
    "for label, value in mapped:\n",
    "    if label not in groups:\n",
    "        groups[label] = []\n",
    "    groups[label].append(value)\n",
    "print('Grouped:', groups)\n"
   ]
  },
  {
   "cell_type": "markdown",
   "id": "f261f866",
   "metadata": {},
   "source": [
    "## 5) Reduce\n",
    "Create totals by summing values for each label, e.g., {'Positive': 3, 'Negative': 2, ...}"
   ]
  },
  {
   "cell_type": "code",
   "execution_count": 14,
   "id": "0cc9b676",
   "metadata": {},
   "outputs": [],
   "source": [
    "totals = {}\n",
    "for label, count in groups.items():\n",
    "    totals[label] = len(count)"
   ]
  },
  {
   "cell_type": "markdown",
   "id": "9c1dc4ed",
   "metadata": {},
   "source": [
    "## 6) Print Counts and Verdict\n",
    "- Print totals for all labels\n",
    "- Compute and print a **verdict**: Happier / Sadder / Tied\n",
    "  based on Positive vs Negative counts."
   ]
  },
  {
   "cell_type": "code",
   "execution_count": 15,
   "id": "3676dffd",
   "metadata": {},
   "outputs": [
    {
     "name": "stdout",
     "output_type": "stream",
     "text": [
      "Totals: {'Positive': 5, 'Negative': 2, 'Neutral': 1, 'Mixed': 2}\n",
      "Document Verdict: Happier\n"
     ]
    }
   ],
   "source": [
    "print('Totals:', totals)\n",
    "if totals[\"Positive\"] > totals[\"Negative\"]:\n",
    "    verdict = \"Happier\"\n",
    "elif totals[\"Negative\"] > totals[\"Positive\"]:\n",
    "    verdict = \"Sadder\"\n",
    "else:\n",
    "    verdict = \"Tied\"\n",
    "\n",
    "print(f\"Document Verdict: {verdict}\")\n"
   ]
  },
  {
   "cell_type": "markdown",
   "id": "b6e24fe0",
   "metadata": {},
   "source": [
    "## 7) Optional: Bar Chart\n",
    "If you know matplotlib, you can draw a simple bar chart."
   ]
  },
  {
   "cell_type": "code",
   "execution_count": 16,
   "id": "21256f55",
   "metadata": {},
   "outputs": [
    {
     "data": {
      "image/png": "[encoded data removed]",
      "text/plain": [
       "<Figure size 640x480 with 1 Axes>"
      ]
     },
     "metadata": {},
     "output_type": "display_data"
    }
   ],
   "source": [
    "# Optional\n",
    "try:\n",
    "    import matplotlib.pyplot as plt\n",
    "    labels = list(totals.keys())\n",
    "    values = [totals[k] for k in labels]\n",
    "    plt.figure()\n",
    "    plt.bar(labels, values, color=[\"green\", \"red\", \"gray\", \"orange\"])\n",
    "    plt.title('Sentiment Counts')\n",
    "    plt.xlabel('Label')\n",
    "    plt.ylabel('Count')\n",
    "    plt.show()\n",
    "except Exception as e:\n",
    "    print('Chart skipped or totals not ready yet:', e)"
   ]
  },
  {
   "cell_type": "markdown",
   "id": "007b3752",
   "metadata": {},
   "source": [
    "---\n",
    "### Checklist to Submit\n",
    "- [X] Filled POS/NEG keywords\n",
    "- [X] Implemented `map_post`\n",
    "- [X] Grouped mapped output into `groups`\n",
    "- [X] Reduced to `totals`\n",
    "- [X] Printed totals and verdict\n",
    "- [X] (Optional) Chart\n"
   ]
  }
 ],
 "metadata": {
  "kernelspec": {
   "display_name": ".venv (3.12.3)",
   "language": "python",
   "name": "python3"
  },
  "language_info": {
   "codemirror_mode": {
    "name": "ipython",
    "version": 3
   },
   "file_extension": ".py",
   "mimetype": "text/x-python",
   "name": "python",
   "nbconvert_exporter": "python",
   "pygments_lexer": "ipython3",
   "version": "3.12.3"
  }
 },
 "nbformat": 4,
 "nbformat_minor": 5
}
